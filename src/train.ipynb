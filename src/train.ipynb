{
 "cells": [
  {
   "cell_type": "code",
   "execution_count": null,
   "metadata": {
    "vscode": {
     "languageId": "plaintext"
    }
   },
   "outputs": [],
   "source": [
    "import torch\n",
    "import torch.optim as optim\n",
    "import torch.nn.functional as F\n",
    "from model import Transformer  \n",
    "from prepare import prepare_data  \n",
    "import tiktoken\n",
    "import tqdm\n",
    "\n",
    "batch_size = 128\n",
    "block_size = 128\n",
    "max_iters = 2400\n",
    "eval_interval = 200\n",
    "learning_rate = 3e-4\n",
    "device = 'cuda' if torch.cuda.is_available() else 'cpu'\n",
    "eval_iters = 20\n",
    "n_embd = 256\n",
    "accumulation_steps = 4\n",
    "\n",
    "torch.manual_seed(42)\n",
    "enc = tiktoken.get_encoding(\"gpt2\")\n",
    "\n",
    "data = prepare_data('../dataset/')\n",
    "vocab_size = enc.n_vocab\n",
    "data = torch.tensor(enc.encode(data), dtype=torch.long)\n",
    "n = int(0.9 * len(data)) \n",
    "train_data = data[:n]\n",
    "val_data = data[n:]\n",
    "\n",
    "def get_batch(split):\n",
    "    data = train_data if split == 'train' else val_data\n",
    "    ix = torch.randint(len(data) - block_size, (batch_size,))\n",
    "    x = torch.stack([data[i:i + block_size] for i in ix])\n",
    "    y = torch.stack([data[i + 1:i + block_size + 1] for i in ix])\n",
    "    x, y = x.to(device), y.to(device)\n",
    "    return x, y\n",
    "\n",
    "def estimate_loss(model):\n",
    "    model.eval()\n",
    "    losses = {'train': 0.0, 'val': 0.0}\n",
    "    for split in ['train', 'val']:\n",
    "        total_loss = 0.0\n",
    "        for _ in range(eval_iters):\n",
    "            x, y = get_batch(split)\n",
    "            with torch.no_grad():\n",
    "                logits = model(x, mask=None)\n",
    "                loss = F.cross_entropy(logits.view(-1, logits.size(-1)), y.view(-1))\n",
    "                total_loss += loss.item()\n",
    "        losses[split] = total_loss / eval_iters\n",
    "    model.train()\n",
    "    return losses"
   ]
  },
  {
   "cell_type": "code",
   "execution_count": null,
   "metadata": {
    "vscode": {
     "languageId": "plaintext"
    }
   },
   "outputs": [],
   "source": [
    "model = Transformer(\n",
    "    embed_size=n_embd, \n",
    "    num_layers=6, \n",
    "    heads=8, \n",
    "    vocab_size=vocab_size, \n",
    "    max_length=block_size, \n",
    "    forward_expansion=4, \n",
    "    dropout=0.1,\n",
    "    device=device\n",
    ").to(device)"
   ]
  },
  {
   "cell_type": "code",
   "execution_count": null,
   "metadata": {
    "vscode": {
     "languageId": "plaintext"
    }
   },
   "outputs": [],
   "source": [
    "def generate_text(model, device, start_text=None, max_length=100, temperature = 1.0):\n",
    "    model.eval()\n",
    "    if start_text is None:\n",
    "        input_ids = torch.tensor([enc.encode(\"<endoftext>\"[0])], dtype=torch.long).to(device)\n",
    "    else:\n",
    "        input_ids = torch.tensor([enc.encode(start_text)], dtype=torch.long).to(device)\n",
    "\n",
    "    for _ in range(max_length):\n",
    "        with torch.no_grad():\n",
    "            logits = model(input_ids, mask=None)\n",
    "            next_token_logits = logits[:, -1, :] / temperature\n",
    "            probs = torch.softmax(next_token_logits, dim=-1)\n",
    "            next_token = torch.multinomial(probs, num_samples=1)\n",
    "            input_ids = torch.cat([input_ids, next_token], dim=1)\n",
    "\n",
    "    return enc.decode(input_ids[0].tolist())"
   ]
  },
  {
   "cell_type": "code",
   "execution_count": null,
   "metadata": {
    "vscode": {
     "languageId": "plaintext"
    }
   },
   "outputs": [],
   "source": [
    "optimizer = optim.AdamW(model.parameters(), lr=learning_rate)\n",
    "scheduler = optim.lr_scheduler.StepLR(optimizer, step_size=1000, gamma=0.1)"
   ]
  },
  {
   "cell_type": "code",
   "execution_count": null,
   "metadata": {
    "vscode": {
     "languageId": "plaintext"
    }
   },
   "outputs": [],
   "source": [
    "for iter in tqdm.tqdm(range(max_iters)):\n",
    "    if iter % eval_interval == 0:\n",
    "        losses = estimate_loss(model)\n",
    "        print(f\"Step {iter}: Train loss = {losses['train']:.4f}, Val loss = {losses['val']:.4f}\")\n",
    "    \n",
    "    x, y = get_batch('train')\n",
    "    logits = model(x, mask=None)\n",
    "    loss = F.cross_entropy(logits.view(-1, logits.size(-1)), y.view(-1))\n",
    "    loss = loss / accumulation_steps\n",
    "    loss.backward()\n",
    "    \n",
    "    if (iter + 1) % accumulation_steps == 0:\n",
    "        optimizer.step()\n",
    "        optimizer.zero_grad()\n",
    "        scheduler.step()"
   ]
  },
  {
   "cell_type": "code",
   "execution_count": null,
   "metadata": {
    "vscode": {
     "languageId": "plaintext"
    }
   },
   "outputs": [],
   "source": [
    "def generate_multiple_texts(model, device, max_length, temperature = 1.0):\n",
    "    samples = []\n",
    "    start_texts = [\n",
    "        \"Harry looked around and saw\",\n",
    "        \"The dark forest was\",\n",
    "        \"In the darkness, a figure appeared\",\n",
    "        \"Hermione grabbed her wand and\",\n",
    "        \"Ron couldn't believe his eyes when he saw\",\n",
    "        \"The room was filled with\",\n",
    "        \"A loud noise echoed through the castle\",\n",
    "        \"Dumbledore turned to Harry and said\",\n",
    "        \"The spell backfired and\",\n",
    "        \"Harry stood in the\"\n",
    "    ]\n",
    "    for start_text in start_texts:\n",
    "        samples.append(generate_text(model, device, start_text, max_length, temperature))\n",
    "    return samples\n",
    "\n",
    "# generate text\n",
    "for i, text in enumerate(generate_multiple_texts(model, device, 100, 1.1)):\n",
    "    print(f\"Text {i + 1}: {text}\")"
   ]
  }
 ],
 "metadata": {
  "language_info": {
   "name": "python"
  }
 },
 "nbformat": 4,
 "nbformat_minor": 2
}
